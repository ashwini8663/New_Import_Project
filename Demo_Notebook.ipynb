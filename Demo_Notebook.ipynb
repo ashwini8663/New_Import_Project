{
 "cells": [
  {
   "cell_type": "code",
   "execution_count": 1,
   "id": "a2e47113-ae6a-4497-9174-bb9fd1db9fc2",
   "metadata": {
    "id": "ddb92a87-9c3a-4a9a-a001-5fbbbad6acc9",
    "tags": []
   },
   "outputs": [
    {
     "name": "stdout",
     "output_type": "stream",
     "text": [
      "Hello Team\n"
     ]
    }
   ],
   "source": [
    "print(\"Hello Team\")"
   ]
  },
  {
   "cell_type": "code",
   "execution_count": null,
   "id": "6ababccc-efc4-4e61-b6a5-f0fd088f9807",
   "metadata": {
    "id": "6ababccc-efc4-4e61-b6a5-f0fd088f9807"
   },
   "outputs": [],
   "source": []
  }
 ],
 "metadata": {
  "kernelspec": {
   "display_name": "Python 3.10",
   "language": "python",
   "name": "python3"
  },
  "language_info": {
   "codemirror_mode": {
    "name": "ipython",
    "version": 3
   },
   "file_extension": ".py",
   "mimetype": "text/x-python",
   "name": "python",
   "nbconvert_exporter": "python",
   "pygments_lexer": "ipython3",
   "version": "3.10.12"
  }
 },
 "nbformat": 4,
 "nbformat_minor": 5
}
